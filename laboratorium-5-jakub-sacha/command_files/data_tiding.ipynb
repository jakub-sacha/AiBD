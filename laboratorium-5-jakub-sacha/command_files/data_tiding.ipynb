{
  "cells": [
    {
      "cell_type": "markdown",
      "id": "dd92525b",
      "metadata": {
        "id": "dd92525b"
      },
      "source": [
        "# Laboratorium 5\n",
        "## Jakub Sacha"
      ]
    },
    {
      "cell_type": "code",
      "execution_count": null,
      "id": "f95452a7",
      "metadata": {
        "id": "f95452a7",
        "outputId": "2f06e41c-4a5a-40a0-9f9e-d924d9a4876c"
      },
      "outputs": [
        {
          "name": "stdout",
          "output_type": "stream",
          "text": [
            "Numer datasetu do pobrania i uporządkowania: 1\n"
          ]
        }
      ],
      "source": [
        "surname = \"Sacha\"\n",
        "print(f\"Numer datasetu do pobrania i uporządkowania: {len(surname) % 5 + 1}\")"
      ]
    },
    {
      "cell_type": "markdown",
      "source": [
        "### Poniższy skrypt wycina z pliku weather.txt dane z roku 2010 i zapisuje je do pliku cut_weather.txt w folderze analysis_data."
      ],
      "metadata": {
        "collapsed": false,
        "id": "mqmcatWC-7-I"
      },
      "id": "mqmcatWC-7-I"
    },
    {
      "cell_type": "code",
      "execution_count": null,
      "id": "8880cce0",
      "metadata": {
        "id": "8880cce0"
      },
      "outputs": [],
      "source": [
        "import os \n",
        "import re\n",
        "\n",
        "# not the best way to grab that data but it will do for now\n",
        "go_up_by = len('command_files')\n",
        "original_data_filepath = os.getcwd()[:-go_up_by] + 'original_data/weather.txt'\n",
        "cut_data_filepath = os.getcwd()[:-go_up_by] + 'analysis_data/cut_weather.txt'\n",
        "tidy_data_filepath = os.getcwd()[:-go_up_by] + 'analysis_data/tidied_weather.csv'\n",
        "data_appendix_filepath = os.getcwd()[:-go_up_by] + 'documents/data_appendix.csv'\n",
        "\n",
        "# cut the data to the part we are interested in (5 months in 2010)\n",
        "interesting_data_id_pattern = r'MX0000170042010[01][0-9][A-Z]{4}'\n",
        "cut_data = \"\"\n",
        "with open(original_data_filepath, 'r') as f:\n",
        "    for line in f.readlines():\n",
        "        if re.findall(interesting_data_id_pattern, line):\n",
        "            cut_data += line\n",
        "\n",
        "# save the narrowed data  \n",
        "with open(cut_data_filepath, 'w') as f:\n",
        "    f.write(cut_data)\n"
      ]
    },
    {
      "cell_type": "markdown",
      "source": [
        "### Ten fragment notebooka odpowiedzialny jest za wczytanie interesujących nas danych oraz wstępne ich pogrupowanie. Wynikiem tych operacji jest poglądowy dataframe."
      ],
      "metadata": {
        "collapsed": false,
        "pycharm": {
          "name": "#%% md\n"
        },
        "id": "norzm1h4-7-J"
      },
      "id": "norzm1h4-7-J"
    },
    {
      "cell_type": "code",
      "execution_count": null,
      "id": "13c2e61f",
      "metadata": {
        "id": "13c2e61f",
        "outputId": "2c87cee4-2a26-489a-bab1-77f4860b7292"
      },
      "outputs": [
        {
          "data": {
            "text/plain": "            id  year month variable name  d1     d2     d3   d4     d5   d6  \\\n0  MX000017004  2010    01          TMAX NaN    NaN    NaN  NaN    NaN  NaN   \n1  MX000017004  2010    01          TMIN NaN    NaN    NaN  NaN    NaN  NaN   \n2  MX000017004  2010    01          PRCP NaN    NaN    NaN  NaN    0.0  NaN   \n3  MX000017004  2010    02          TMAX NaN  273.0  241.0  NaN    NaN  NaN   \n4  MX000017004  2010    02          TMIN NaN  144.0  144.0  NaN    NaN  NaN   \n5  MX000017004  2010    02          PRCP NaN    0.0    0.0  NaN    NaN  0.0   \n6  MX000017004  2010    03          TMAX NaN    NaN    NaN  NaN  321.0  NaN   \n7  MX000017004  2010    03          TMIN NaN    NaN    NaN  NaN  142.0  NaN   \n8  MX000017004  2010    03          PRCP NaN    0.0    NaN  0.0    0.0  0.0   \n9  MX000017004  2010    04          TMAX NaN    NaN    NaN  NaN    NaN  NaN   \n\n   ...  d22    d23  d24  d25  d26    d27  d28  d29    d30  d31  \n0  ...  NaN    NaN  NaN  NaN  NaN    NaN  NaN  NaN  278.0  NaN  \n1  ...  NaN    NaN  NaN  NaN  NaN    NaN  NaN  NaN  145.0  NaN  \n2  ...  0.0    0.0  NaN  0.0  0.0    0.0  0.0  0.0    0.0  NaN  \n3  ...  NaN  299.0  NaN  NaN  NaN    NaN  NaN  NaN    NaN  NaN  \n4  ...  NaN  107.0  NaN  NaN  NaN    NaN  NaN  NaN    NaN  NaN  \n5  ...  NaN    0.0  NaN  0.0  NaN    NaN  NaN  NaN    NaN  NaN  \n6  ...  NaN    NaN  NaN  NaN  NaN    NaN  NaN  NaN    NaN  NaN  \n7  ...  NaN    NaN  NaN  NaN  NaN    NaN  NaN  NaN    NaN  NaN  \n8  ...  NaN    0.0  NaN  NaN  0.0    0.0  NaN  NaN    0.0  NaN  \n9  ...  NaN    NaN  NaN  NaN  NaN  363.0  NaN  NaN    NaN  NaN  \n\n[10 rows x 35 columns]",
            "text/html": "<div>\n<style scoped>\n    .dataframe tbody tr th:only-of-type {\n        vertical-align: middle;\n    }\n\n    .dataframe tbody tr th {\n        vertical-align: top;\n    }\n\n    .dataframe thead th {\n        text-align: right;\n    }\n</style>\n<table border=\"1\" class=\"dataframe\">\n  <thead>\n    <tr style=\"text-align: right;\">\n      <th></th>\n      <th>id</th>\n      <th>year</th>\n      <th>month</th>\n      <th>variable name</th>\n      <th>d1</th>\n      <th>d2</th>\n      <th>d3</th>\n      <th>d4</th>\n      <th>d5</th>\n      <th>d6</th>\n      <th>...</th>\n      <th>d22</th>\n      <th>d23</th>\n      <th>d24</th>\n      <th>d25</th>\n      <th>d26</th>\n      <th>d27</th>\n      <th>d28</th>\n      <th>d29</th>\n      <th>d30</th>\n      <th>d31</th>\n    </tr>\n  </thead>\n  <tbody>\n    <tr>\n      <th>0</th>\n      <td>MX000017004</td>\n      <td>2010</td>\n      <td>01</td>\n      <td>TMAX</td>\n      <td>NaN</td>\n      <td>NaN</td>\n      <td>NaN</td>\n      <td>NaN</td>\n      <td>NaN</td>\n      <td>NaN</td>\n      <td>...</td>\n      <td>NaN</td>\n      <td>NaN</td>\n      <td>NaN</td>\n      <td>NaN</td>\n      <td>NaN</td>\n      <td>NaN</td>\n      <td>NaN</td>\n      <td>NaN</td>\n      <td>278.0</td>\n      <td>NaN</td>\n    </tr>\n    <tr>\n      <th>1</th>\n      <td>MX000017004</td>\n      <td>2010</td>\n      <td>01</td>\n      <td>TMIN</td>\n      <td>NaN</td>\n      <td>NaN</td>\n      <td>NaN</td>\n      <td>NaN</td>\n      <td>NaN</td>\n      <td>NaN</td>\n      <td>...</td>\n      <td>NaN</td>\n      <td>NaN</td>\n      <td>NaN</td>\n      <td>NaN</td>\n      <td>NaN</td>\n      <td>NaN</td>\n      <td>NaN</td>\n      <td>NaN</td>\n      <td>145.0</td>\n      <td>NaN</td>\n    </tr>\n    <tr>\n      <th>2</th>\n      <td>MX000017004</td>\n      <td>2010</td>\n      <td>01</td>\n      <td>PRCP</td>\n      <td>NaN</td>\n      <td>NaN</td>\n      <td>NaN</td>\n      <td>NaN</td>\n      <td>0.0</td>\n      <td>NaN</td>\n      <td>...</td>\n      <td>0.0</td>\n      <td>0.0</td>\n      <td>NaN</td>\n      <td>0.0</td>\n      <td>0.0</td>\n      <td>0.0</td>\n      <td>0.0</td>\n      <td>0.0</td>\n      <td>0.0</td>\n      <td>NaN</td>\n    </tr>\n    <tr>\n      <th>3</th>\n      <td>MX000017004</td>\n      <td>2010</td>\n      <td>02</td>\n      <td>TMAX</td>\n      <td>NaN</td>\n      <td>273.0</td>\n      <td>241.0</td>\n      <td>NaN</td>\n      <td>NaN</td>\n      <td>NaN</td>\n      <td>...</td>\n      <td>NaN</td>\n      <td>299.0</td>\n      <td>NaN</td>\n      <td>NaN</td>\n      <td>NaN</td>\n      <td>NaN</td>\n      <td>NaN</td>\n      <td>NaN</td>\n      <td>NaN</td>\n      <td>NaN</td>\n    </tr>\n    <tr>\n      <th>4</th>\n      <td>MX000017004</td>\n      <td>2010</td>\n      <td>02</td>\n      <td>TMIN</td>\n      <td>NaN</td>\n      <td>144.0</td>\n      <td>144.0</td>\n      <td>NaN</td>\n      <td>NaN</td>\n      <td>NaN</td>\n      <td>...</td>\n      <td>NaN</td>\n      <td>107.0</td>\n      <td>NaN</td>\n      <td>NaN</td>\n      <td>NaN</td>\n      <td>NaN</td>\n      <td>NaN</td>\n      <td>NaN</td>\n      <td>NaN</td>\n      <td>NaN</td>\n    </tr>\n    <tr>\n      <th>5</th>\n      <td>MX000017004</td>\n      <td>2010</td>\n      <td>02</td>\n      <td>PRCP</td>\n      <td>NaN</td>\n      <td>0.0</td>\n      <td>0.0</td>\n      <td>NaN</td>\n      <td>NaN</td>\n      <td>0.0</td>\n      <td>...</td>\n      <td>NaN</td>\n      <td>0.0</td>\n      <td>NaN</td>\n      <td>0.0</td>\n      <td>NaN</td>\n      <td>NaN</td>\n      <td>NaN</td>\n      <td>NaN</td>\n      <td>NaN</td>\n      <td>NaN</td>\n    </tr>\n    <tr>\n      <th>6</th>\n      <td>MX000017004</td>\n      <td>2010</td>\n      <td>03</td>\n      <td>TMAX</td>\n      <td>NaN</td>\n      <td>NaN</td>\n      <td>NaN</td>\n      <td>NaN</td>\n      <td>321.0</td>\n      <td>NaN</td>\n      <td>...</td>\n      <td>NaN</td>\n      <td>NaN</td>\n      <td>NaN</td>\n      <td>NaN</td>\n      <td>NaN</td>\n      <td>NaN</td>\n      <td>NaN</td>\n      <td>NaN</td>\n      <td>NaN</td>\n      <td>NaN</td>\n    </tr>\n    <tr>\n      <th>7</th>\n      <td>MX000017004</td>\n      <td>2010</td>\n      <td>03</td>\n      <td>TMIN</td>\n      <td>NaN</td>\n      <td>NaN</td>\n      <td>NaN</td>\n      <td>NaN</td>\n      <td>142.0</td>\n      <td>NaN</td>\n      <td>...</td>\n      <td>NaN</td>\n      <td>NaN</td>\n      <td>NaN</td>\n      <td>NaN</td>\n      <td>NaN</td>\n      <td>NaN</td>\n      <td>NaN</td>\n      <td>NaN</td>\n      <td>NaN</td>\n      <td>NaN</td>\n    </tr>\n    <tr>\n      <th>8</th>\n      <td>MX000017004</td>\n      <td>2010</td>\n      <td>03</td>\n      <td>PRCP</td>\n      <td>NaN</td>\n      <td>0.0</td>\n      <td>NaN</td>\n      <td>0.0</td>\n      <td>0.0</td>\n      <td>0.0</td>\n      <td>...</td>\n      <td>NaN</td>\n      <td>0.0</td>\n      <td>NaN</td>\n      <td>NaN</td>\n      <td>0.0</td>\n      <td>0.0</td>\n      <td>NaN</td>\n      <td>NaN</td>\n      <td>0.0</td>\n      <td>NaN</td>\n    </tr>\n    <tr>\n      <th>9</th>\n      <td>MX000017004</td>\n      <td>2010</td>\n      <td>04</td>\n      <td>TMAX</td>\n      <td>NaN</td>\n      <td>NaN</td>\n      <td>NaN</td>\n      <td>NaN</td>\n      <td>NaN</td>\n      <td>NaN</td>\n      <td>...</td>\n      <td>NaN</td>\n      <td>NaN</td>\n      <td>NaN</td>\n      <td>NaN</td>\n      <td>NaN</td>\n      <td>363.0</td>\n      <td>NaN</td>\n      <td>NaN</td>\n      <td>NaN</td>\n      <td>NaN</td>\n    </tr>\n  </tbody>\n</table>\n<p>10 rows × 35 columns</p>\n</div>"
          },
          "execution_count": 7,
          "metadata": {},
          "output_type": "execute_result"
        }
      ],
      "source": [
        "import pandas as pd\n",
        "import numpy as np\n",
        "import matplotlib.pyplot as plt\n",
        "import re\n",
        "\n",
        "days_range = range(1, 32)\n",
        "\n",
        "column_names = [\"id\", \"year\", \"month\", \"variable name\"] + [f\"d{i}\" for i in days_range]\n",
        "\n",
        "weather_station_id = \"MX000017004\"\n",
        "rows = []\n",
        "\n",
        "with open(cut_data_filepath, \"r\") as dataset:\n",
        "    for line in dataset.readlines():\n",
        "        start = len(weather_station_id)\n",
        "\n",
        "        year = line[start:start+4]\n",
        "        month = line[start+len(year):start+len(year)+2]\n",
        "        var_name = line[start+len(year)+len(month):start+len(year)+len(month)+4]\n",
        "\n",
        "        days_data_idx = len(weather_station_id) + len(year) + len(month) + len(var_name)\n",
        "\n",
        "        days_data = line[days_data_idx:]\n",
        "        # I search for every number in the part that's representing daily measurements and check if it's a valid value(I assume '9999' is a NaN value)\n",
        "        days_cleaned_data = [float(number) if number != '9999' else np.NaN for number in re.findall('[0-9]+', days_data) ]\n",
        "\n",
        "        rows.append([weather_station_id, year, month, var_name] + days_cleaned_data)\n",
        "\n",
        "df_before_tiding = pd.DataFrame(rows, columns=column_names)\n",
        "df_before_tiding.head(10)"
      ]
    },
    {
      "cell_type": "markdown",
      "source": [
        "### Następnie segreguję dane według zasad tidy data. Dane zapisane zostają do tidied_weather.csv w folderze analysis_data oraz zostaje wyświetlony poglądowy dataframe."
      ],
      "metadata": {
        "collapsed": false,
        "id": "3I0f-r7Z-7-K"
      },
      "id": "3I0f-r7Z-7-K"
    },
    {
      "cell_type": "code",
      "execution_count": null,
      "id": "de197313",
      "metadata": {
        "pycharm": {
          "name": "#%%\n"
        },
        "id": "de197313",
        "outputId": "447bbc76-40d6-44a2-c4ab-d3d15c92121f"
      },
      "outputs": [
        {
          "data": {
            "text/plain": "  weather_station_id        date  TMAX  TMIN  PRCP\n0        MX000017004  2010-01-30  27.8  14.5   0.0\n1        MX000017004  2010-02-02  27.3  14.4   0.0\n2        MX000017004  2010-02-03  24.1  14.4   0.0\n3        MX000017004  2010-02-11  29.7  13.4   0.0\n4        MX000017004  2010-02-23  29.9  10.7   0.0\n5        MX000017004  2010-03-05  32.1  14.2   0.0\n6        MX000017004  2010-03-10  34.5  16.8   0.0\n7        MX000017004  2010-03-16  31.1  17.6   0.0\n8        MX000017004  2010-04-27  36.3  16.7   0.0\n9        MX000017004  2010-05-27  33.2  18.2   0.0",
            "text/html": "<div>\n<style scoped>\n    .dataframe tbody tr th:only-of-type {\n        vertical-align: middle;\n    }\n\n    .dataframe tbody tr th {\n        vertical-align: top;\n    }\n\n    .dataframe thead th {\n        text-align: right;\n    }\n</style>\n<table border=\"1\" class=\"dataframe\">\n  <thead>\n    <tr style=\"text-align: right;\">\n      <th></th>\n      <th>weather_station_id</th>\n      <th>date</th>\n      <th>TMAX</th>\n      <th>TMIN</th>\n      <th>PRCP</th>\n    </tr>\n  </thead>\n  <tbody>\n    <tr>\n      <th>0</th>\n      <td>MX000017004</td>\n      <td>2010-01-30</td>\n      <td>27.8</td>\n      <td>14.5</td>\n      <td>0.0</td>\n    </tr>\n    <tr>\n      <th>1</th>\n      <td>MX000017004</td>\n      <td>2010-02-02</td>\n      <td>27.3</td>\n      <td>14.4</td>\n      <td>0.0</td>\n    </tr>\n    <tr>\n      <th>2</th>\n      <td>MX000017004</td>\n      <td>2010-02-03</td>\n      <td>24.1</td>\n      <td>14.4</td>\n      <td>0.0</td>\n    </tr>\n    <tr>\n      <th>3</th>\n      <td>MX000017004</td>\n      <td>2010-02-11</td>\n      <td>29.7</td>\n      <td>13.4</td>\n      <td>0.0</td>\n    </tr>\n    <tr>\n      <th>4</th>\n      <td>MX000017004</td>\n      <td>2010-02-23</td>\n      <td>29.9</td>\n      <td>10.7</td>\n      <td>0.0</td>\n    </tr>\n    <tr>\n      <th>5</th>\n      <td>MX000017004</td>\n      <td>2010-03-05</td>\n      <td>32.1</td>\n      <td>14.2</td>\n      <td>0.0</td>\n    </tr>\n    <tr>\n      <th>6</th>\n      <td>MX000017004</td>\n      <td>2010-03-10</td>\n      <td>34.5</td>\n      <td>16.8</td>\n      <td>0.0</td>\n    </tr>\n    <tr>\n      <th>7</th>\n      <td>MX000017004</td>\n      <td>2010-03-16</td>\n      <td>31.1</td>\n      <td>17.6</td>\n      <td>0.0</td>\n    </tr>\n    <tr>\n      <th>8</th>\n      <td>MX000017004</td>\n      <td>2010-04-27</td>\n      <td>36.3</td>\n      <td>16.7</td>\n      <td>0.0</td>\n    </tr>\n    <tr>\n      <th>9</th>\n      <td>MX000017004</td>\n      <td>2010-05-27</td>\n      <td>33.2</td>\n      <td>18.2</td>\n      <td>0.0</td>\n    </tr>\n  </tbody>\n</table>\n</div>"
          },
          "execution_count": 8,
          "metadata": {},
          "output_type": "execute_result"
        }
      ],
      "source": [
        "# after reading and organising data from the file I can apply tidy data rules\n",
        "column_names = [\"weather_station_id\", \"date\", \"TMAX\", \"TMIN\", \"PRCP\"]\n",
        "tidied_rows = []\n",
        "# I take advantage of the data order in weather.txt\n",
        "for (tmax_row, tmin_row, prcp_row) in zip(rows[0::3], rows[1::3], rows[2::3]):\n",
        "    ID = tmax_row[0]\n",
        "    for i, day in enumerate(days_range):\n",
        "        if int(day) < 10:\n",
        "            day = \"0\" + str(day)\n",
        "        year, month = tmax_row[1], tmax_row[2]\n",
        "        date = f'{year}-{month}-{day}'\n",
        "\n",
        "        tmax_value = float(tmax_row[i+4]) / 10 if tmax_row[i+4] is not np.NaN else np.NaN\n",
        "        tmin_value = float(tmin_row[i+4]) / 10 if tmin_row[i+4] is not np.NaN else np.NaN\n",
        "        prcp_value = float(prcp_row[i+4]) / 10 if prcp_row[i+4] is not np.NaN else np.NaN\n",
        "\n",
        "        if tmax_value > tmin_value:\n",
        "            # in case when tmax is greater than tmin an error must have occurred so I don't record those values\n",
        "            tidied_rows.append([ID, date, tmax_value, tmin_value, prcp_value])\n",
        "\n",
        "tidied_df = pd.DataFrame(tidied_rows, columns=column_names)\n",
        "tidied_df.dropna(inplace=True)\n",
        "tidied_df.reset_index(drop=True, inplace=True)\n",
        "\n",
        "# save data to csv\n",
        "with open(tidy_data_filepath, 'w') as output:\n",
        "    output.write(tidied_df.to_csv(index=False))\n",
        "# make a copy for data appendix\n",
        "with open(data_appendix_filepath, 'w') as data_appendix_file:\n",
        "    data_appendix_file.write(tidied_df.to_csv(index=False))\n",
        "# show how the data looks now\n",
        "tidied_df.head(10)"
      ]
    },
    {
      "cell_type": "markdown",
      "source": [
        "### Przy każdej z tych wartości zarejestrowana została flaga 'S', która oznacza 'failed spatial consistency check' zgodnie z dokumentacją danych z Global Historical Climatology Network, zatem użyteczność danych zgromadzonych jest w pewien sposób ograniczona."
      ],
      "metadata": {
        "collapsed": false,
        "pycharm": {
          "name": "#%% md\n"
        },
        "id": "eS00yQW4-7-L"
      },
      "id": "eS00yQW4-7-L"
    }
  ],
  "metadata": {
    "kernelspec": {
      "name": "python3",
      "language": "python",
      "display_name": "Python 3"
    },
    "language_info": {
      "codemirror_mode": {
        "name": "ipython",
        "version": 3
      },
      "file_extension": ".py",
      "mimetype": "text/x-python",
      "name": "python",
      "nbconvert_exporter": "python",
      "pygments_lexer": "ipython3",
      "version": "3.8.11"
    },
    "colab": {
      "provenance": [],
      "collapsed_sections": []
    }
  },
  "nbformat": 4,
  "nbformat_minor": 5
}